{
 "cells": [
  {
   "cell_type": "markdown",
   "metadata": {},
   "source": [
    "Conventions\n",
    "\n",
    "R - isotope ratio. Equal to Ni/Nj where i denotes the rare isotopologue and j the common species. this usually won't differ much from a concentration, Ni/(Nj+Ni)\n",
    "\n",
    "δ - delta, the isotopic abundance value relative to a standard (standards include VSMOW, GISP, and SLAP for O and H) Equals (R_sample - R_standard)/R_standard or (R_sample-R_standard)-1 Usually given in units of per 1000 of common species. VSMOW is common standard\n",
    "\n",
    "α - equilibrium fractionation factor at given temperature. Craig Gordon uses superscript * for α < 1 and superscript + for α>1 In phase transitions of water, resultant changes in hydrogen and oxygen isotopes can differ by almost a factor of 10. Differences in fractionation factor are an order of mag higher for hydrogen isotopologues (figure 3.1 p 25). α = R2/R1 where R2 and R1 are ratios of isotopes to common species between two phases 1 and 2\n",
    "\n",
    "left off at page 28\n",
    "\n",
    "\n",
    "\n",
    "\n"
   ]
  },
  {
   "cell_type": "markdown",
   "metadata": {},
   "source": [
    "These equations are referenced from Isotope Hydrology: A Study of the Water Cycle by Joel R Gat. References formatted as follows:\n",
    "\n",
    "Equation Name, Page, Formula Number"
   ]
  },
  {
   "cell_type": "code",
   "execution_count": null,
   "metadata": {
    "collapsed": true
   },
   "outputs": [],
   "source": [
    "# Flux Equation for Water Substance, 34, 4.7\n",
    "\n",
    "E = (1-h)/(rho_M + rho_T)"
   ]
  },
  {
   "cell_type": "markdown",
   "metadata": {},
   "source": [
    "Good et al. 2014 notes\n",
    "\n",
    "Assuming that background vapor concentra-\n",
    "tion (qB) and composition (dB) are constant over short time periods (e.g., 30 min), the instantaneous isotopic\n",
    "composition in the air above the surface...\n",
    "\n",
    "- Do I need to filter/find days or times of day when qB and dB are constant over 30 minutes?"
   ]
  },
  {
   "cell_type": "markdown",
   "metadata": {},
   "source": [
    "$$\\delta_A = (\\delta_B-\\delta_{ET})*{q_B\\over q_A}+\\delta_{ET}$$"
   ]
  },
  {
   "cell_type": "markdown",
   "metadata": {},
   "source": [
    "Do I calculate Delta B by taking rolling average of Delta D over thirty minute time intervals? And do the same for background vapor concentration (qB) from H2Oppm_top? Would qB come from aggregating the vapor concentration measured by the WVIA (near the surface?)"
   ]
  },
  {
   "cell_type": "code",
   "execution_count": null,
   "metadata": {},
   "outputs": [],
   "source": []
  },
  {
   "cell_type": "code",
   "execution_count": null,
   "metadata": {},
   "outputs": [],
   "source": []
  }
 ],
 "metadata": {
  "kernelspec": {
   "display_name": "Python [default]",
   "language": "python",
   "name": "python3"
  },
  "language_info": {
   "codemirror_mode": {
    "name": "ipython",
    "version": 3
   },
   "file_extension": ".py",
   "mimetype": "text/x-python",
   "name": "python",
   "nbconvert_exporter": "python",
   "pygments_lexer": "ipython3",
   "version": "3.6.4"
  }
 },
 "nbformat": 4,
 "nbformat_minor": 2
}
