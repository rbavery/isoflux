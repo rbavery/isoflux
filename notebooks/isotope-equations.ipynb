{
 "cells": [
  {
   "cell_type": "markdown",
   "metadata": {},
   "source": [
    "Conventions\n",
    "\n",
    "R - isotope ratio. Equal to Ni/Nj where i denotes the rare isotopologue and j the common species. this usually won't differ much from a concentration, Ni/(Nj+Ni)\n",
    "\n",
    "δ - delta, the isotopic abundance value relative to a standard (standards include VSMOW, GISP, and SLAP for O and H) Equals (R_sample - R_standard)/R_standard or (R_sample-R_standard)-1 Usually given in units of per 1000 of common species. VSMOW is common standard\n",
    "\n",
    "α - equilibrium fractionation factor at given temperature. Craig Gordon uses superscript * for α < 1 and superscript + for α>1 In phase transitions of water, resultant changes in hydrogen and oxygen isotopes can differ by almost a factor of 10. Differences in fractionation factor are an order of mag higher for hydrogen isotopologues (figure 3.1 p 25). α = R2/R1 where R2 and R1 are ratios of isotopes to common species between two phases 1 and 2\n",
    "\n",
    "lef toff at page 28\n",
    "\n",
    "\n",
    "\n",
    "\n"
   ]
  },
  {
   "cell_type": "markdown",
   "metadata": {},
   "source": [
    "These equations are referenced from Isotope Hydrology: A Study of the Water Cycle by Joel R Gat. References formatted as follows:\n",
    "\n",
    "Equation Name, Page, Formula Number"
   ]
  },
  {
   "cell_type": "code",
   "execution_count": null,
   "metadata": {
    "collapsed": true
   },
   "outputs": [],
   "source": [
    "# Flux Equation for Water Substance, 34, 4.7\n",
    "\n",
    "E = (1-h)/(rho_M + rho_T)"
   ]
  }
 ],
 "metadata": {
  "kernelspec": {
   "display_name": "Python 3",
   "language": "python",
   "name": "python3"
  },
  "language_info": {
   "codemirror_mode": {
    "name": "ipython",
    "version": 3
   },
   "file_extension": ".py",
   "mimetype": "text/x-python",
   "name": "python",
   "nbconvert_exporter": "python",
   "pygments_lexer": "ipython3",
   "version": "3.6.3"
  }
 },
 "nbformat": 4,
 "nbformat_minor": 2
}
